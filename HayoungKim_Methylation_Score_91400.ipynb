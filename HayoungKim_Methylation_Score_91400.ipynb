{
 "cells": [
  {
   "cell_type": "markdown",
   "id": "b6fcceb4",
   "metadata": {},
   "source": [
    "# Predictive Modelling Project 2 - DNA Methylation prediction\n",
    "## Hayoung Kim, 01603259"
   ]
  },
  {
   "cell_type": "markdown",
   "id": "cdb9bd54",
   "metadata": {},
   "source": [
    "### 1. Import Packages"
   ]
  },
  {
   "cell_type": "code",
   "execution_count": 1,
   "id": "0609a022",
   "metadata": {
    "tags": []
   },
   "outputs": [],
   "source": [
    "#import everything\n",
    "\n",
    "import numpy as np\n",
    "import pandas as pd\n",
    "import matplotlib.pyplot as plt\n",
    "plt.style.use('seaborn-white')\n",
    "%matplotlib inline\n",
    "import seaborn as sns\n",
    "from sklearn.model_selection import train_test_split\n",
    "from sklearn.model_selection import train_test_split\n",
    "from sklearn.metrics import roc_curve, roc_auc_score\n",
    "from sklearn.feature_extraction.text import CountVectorizer\n",
    "from collections import Counter\n",
    "from sklearn.ensemble import RandomForestClassifier, AdaBoostClassifier, GradientBoostingClassifier, ExtraTreesClassifier, VotingClassifier\n",
    "from sklearn.discriminant_analysis import LinearDiscriminantAnalysis\n",
    "from sklearn.linear_model import LogisticRegression\n",
    "from sklearn.neighbors import KNeighborsClassifier\n",
    "from sklearn.tree import DecisionTreeClassifier\n",
    "from sklearn.neural_network import MLPClassifier\n",
    "from sklearn.svm import SVC\n",
    "from sklearn.model_selection import GridSearchCV, cross_val_score, StratifiedKFold, learning_curve\n",
    "sns.set(style='white', context='notebook', palette='deep')\n"
   ]
  },
  {
   "cell_type": "markdown",
   "id": "21043cf1",
   "metadata": {},
   "source": [
    "### 2. Load train dataset"
   ]
  },
  {
   "cell_type": "code",
   "execution_count": 2,
   "id": "842c1d2d",
   "metadata": {},
   "outputs": [
    {
     "data": {
      "text/html": [
       "<div>\n",
       "<style scoped>\n",
       "    .dataframe tbody tr th:only-of-type {\n",
       "        vertical-align: middle;\n",
       "    }\n",
       "\n",
       "    .dataframe tbody tr th {\n",
       "        vertical-align: top;\n",
       "    }\n",
       "\n",
       "    .dataframe thead th {\n",
       "        text-align: right;\n",
       "    }\n",
       "</style>\n",
       "<table border=\"1\" class=\"dataframe\">\n",
       "  <thead>\n",
       "    <tr style=\"text-align: right;\">\n",
       "      <th></th>\n",
       "      <th>DNAsequence</th>\n",
       "      <th>label</th>\n",
       "    </tr>\n",
       "  </thead>\n",
       "  <tbody>\n",
       "    <tr>\n",
       "      <th>0</th>\n",
       "      <td>TATAGATTAGAACAATTTGCTTCTCTGCTGATGGGGAAACTGTGAC...</td>\n",
       "      <td>1</td>\n",
       "    </tr>\n",
       "    <tr>\n",
       "      <th>1</th>\n",
       "      <td>GCTGAAGTGCAGTGGCATGATCTTGGCTCACTGCAACCTCTGCCTC...</td>\n",
       "      <td>1</td>\n",
       "    </tr>\n",
       "    <tr>\n",
       "      <th>2</th>\n",
       "      <td>CTAGGAATTTGCATGGCAACAGTCAACAATGGTGGGAGAGAAAGGC...</td>\n",
       "      <td>1</td>\n",
       "    </tr>\n",
       "    <tr>\n",
       "      <th>3</th>\n",
       "      <td>ATATGAGATAATGAGAAAAAACACAAGAGTATATGTACATATATAC...</td>\n",
       "      <td>1</td>\n",
       "    </tr>\n",
       "    <tr>\n",
       "      <th>4</th>\n",
       "      <td>ATGATAATACTGAGAGATGTCCTAAGAGATTGCCTGTATTCCACGC...</td>\n",
       "      <td>1</td>\n",
       "    </tr>\n",
       "    <tr>\n",
       "      <th>5</th>\n",
       "      <td>TTATACAAGCCTGTGATATCTCAGCCTCAAGTTGTGATTTCTCCCT...</td>\n",
       "      <td>1</td>\n",
       "    </tr>\n",
       "    <tr>\n",
       "      <th>6</th>\n",
       "      <td>CAATGGTGAAACCCAGTCTCTACTAAAAATACAAAAATTAGCTGGG...</td>\n",
       "      <td>1</td>\n",
       "    </tr>\n",
       "    <tr>\n",
       "      <th>7</th>\n",
       "      <td>CTGATTGGCTGGACCGCCGGGCTTTTGTGTCCCCGCCCTCCCCCGG...</td>\n",
       "      <td>0</td>\n",
       "    </tr>\n",
       "    <tr>\n",
       "      <th>8</th>\n",
       "      <td>GACGTTGGGCAACAAAAAGAAAGTGAAAAGAACCTTACAAAAAATA...</td>\n",
       "      <td>1</td>\n",
       "    </tr>\n",
       "    <tr>\n",
       "      <th>9</th>\n",
       "      <td>GACCTTTCAAACCTCTTTGCTAATTCCTCTTGCCAAGAGATGCTTG...</td>\n",
       "      <td>1</td>\n",
       "    </tr>\n",
       "    <tr>\n",
       "      <th>10</th>\n",
       "      <td>GGGAAGGGGCCCAGTAATTGTCCCTGGGAAGTCTCCAGAAGGCTGA...</td>\n",
       "      <td>0</td>\n",
       "    </tr>\n",
       "    <tr>\n",
       "      <th>11</th>\n",
       "      <td>ATTCTGAAAACCTGTGAATATTACCTTATTTTGTAAAAGGGTCTTT...</td>\n",
       "      <td>1</td>\n",
       "    </tr>\n",
       "    <tr>\n",
       "      <th>12</th>\n",
       "      <td>TCCTGACGATGTCCCCTTCCCTCCGAGGCCAGTCCATCCGGCAGAC...</td>\n",
       "      <td>0</td>\n",
       "    </tr>\n",
       "    <tr>\n",
       "      <th>13</th>\n",
       "      <td>GCGGTGCGGAATGGAGCCGGAGGGGGCGGGGCGGCCCTGGCGCGGC...</td>\n",
       "      <td>0</td>\n",
       "    </tr>\n",
       "    <tr>\n",
       "      <th>14</th>\n",
       "      <td>GGCAACAGTTACAAAAGTCAGGGACTTAGAACAAAGGGAGTTTGTA...</td>\n",
       "      <td>1</td>\n",
       "    </tr>\n",
       "    <tr>\n",
       "      <th>15</th>\n",
       "      <td>CAATACATTAGAAAGAAAGATTATTAATCATGACCAAGTGGGGTTT...</td>\n",
       "      <td>1</td>\n",
       "    </tr>\n",
       "    <tr>\n",
       "      <th>16</th>\n",
       "      <td>GAGTTCGAGGCCAGCGTGGCCAACAGAGTGAAACCCTGTCTCTACT...</td>\n",
       "      <td>1</td>\n",
       "    </tr>\n",
       "    <tr>\n",
       "      <th>17</th>\n",
       "      <td>TTGCTTTTGCATGCTCTGCTGTGATGAAGATTGTTGACGCCAAGAA...</td>\n",
       "      <td>1</td>\n",
       "    </tr>\n",
       "    <tr>\n",
       "      <th>18</th>\n",
       "      <td>GAGTTCTTTCACTAATTATTTACTCCCAGTCATTCCAAGGACAACA...</td>\n",
       "      <td>1</td>\n",
       "    </tr>\n",
       "    <tr>\n",
       "      <th>19</th>\n",
       "      <td>GAGCCCGGGGGCGCCTCTGAATCTTGCGGGTGGGGGCTCGGGCAGG...</td>\n",
       "      <td>0</td>\n",
       "    </tr>\n",
       "  </tbody>\n",
       "</table>\n",
       "</div>"
      ],
      "text/plain": [
       "                                          DNAsequence  label\n",
       "0   TATAGATTAGAACAATTTGCTTCTCTGCTGATGGGGAAACTGTGAC...      1\n",
       "1   GCTGAAGTGCAGTGGCATGATCTTGGCTCACTGCAACCTCTGCCTC...      1\n",
       "2   CTAGGAATTTGCATGGCAACAGTCAACAATGGTGGGAGAGAAAGGC...      1\n",
       "3   ATATGAGATAATGAGAAAAAACACAAGAGTATATGTACATATATAC...      1\n",
       "4   ATGATAATACTGAGAGATGTCCTAAGAGATTGCCTGTATTCCACGC...      1\n",
       "5   TTATACAAGCCTGTGATATCTCAGCCTCAAGTTGTGATTTCTCCCT...      1\n",
       "6   CAATGGTGAAACCCAGTCTCTACTAAAAATACAAAAATTAGCTGGG...      1\n",
       "7   CTGATTGGCTGGACCGCCGGGCTTTTGTGTCCCCGCCCTCCCCCGG...      0\n",
       "8   GACGTTGGGCAACAAAAAGAAAGTGAAAAGAACCTTACAAAAAATA...      1\n",
       "9   GACCTTTCAAACCTCTTTGCTAATTCCTCTTGCCAAGAGATGCTTG...      1\n",
       "10  GGGAAGGGGCCCAGTAATTGTCCCTGGGAAGTCTCCAGAAGGCTGA...      0\n",
       "11  ATTCTGAAAACCTGTGAATATTACCTTATTTTGTAAAAGGGTCTTT...      1\n",
       "12  TCCTGACGATGTCCCCTTCCCTCCGAGGCCAGTCCATCCGGCAGAC...      0\n",
       "13  GCGGTGCGGAATGGAGCCGGAGGGGGCGGGGCGGCCCTGGCGCGGC...      0\n",
       "14  GGCAACAGTTACAAAAGTCAGGGACTTAGAACAAAGGGAGTTTGTA...      1\n",
       "15  CAATACATTAGAAAGAAAGATTATTAATCATGACCAAGTGGGGTTT...      1\n",
       "16  GAGTTCGAGGCCAGCGTGGCCAACAGAGTGAAACCCTGTCTCTACT...      1\n",
       "17  TTGCTTTTGCATGCTCTGCTGTGATGAAGATTGTTGACGCCAAGAA...      1\n",
       "18  GAGTTCTTTCACTAATTATTTACTCCCAGTCATTCCAAGGACAACA...      1\n",
       "19  GAGCCCGGGGGCGCCTCTGAATCTTGCGGGTGGGGGCTCGGGCAGG...      0"
      ]
     },
     "execution_count": 2,
     "metadata": {},
     "output_type": "execute_result"
    }
   ],
   "source": [
    "promotor_data = pd.read_csv('./train.csv')\n",
    "promotor_data.head(20)"
   ]
  },
  {
   "cell_type": "markdown",
   "id": "c55183ea",
   "metadata": {},
   "source": [
    "### 3. Data Preprocessing for the train dataset"
   ]
  },
  {
   "cell_type": "markdown",
   "id": "ab62fe28",
   "metadata": {},
   "source": [
    "1. Transformation of the DNA sequences into a bag of words representation. These are the features. Extractction of the label column from the original dataframe and use it as the target variable. \n",
    "\n",
    "2. Split in train-test data (80/20) and try to classify with LDA whether RPOD binds to the sequences in the training and in the test data. The loop below is including 1-grams, then 2-grams, 3-grams, 4-grams, and 5-grams. Evaluate the model by means of the AUC.\n",
    "\n",
    "3. Choose the best number of n-grams to consider and store the predicted probabilities for class 1 in y_test_predicited_ngram. I used them further on.\n"
   ]
  },
  {
   "cell_type": "code",
   "execution_count": 3,
   "id": "b1f2214c",
   "metadata": {},
   "outputs": [
    {
     "name": "stdout",
     "output_type": "stream",
     "text": [
      "Ngram range: 1 to 1\n",
      "AUC with LDA on training data: 0.86\n",
      "AUC with LDA on test data: 0.87\n",
      "Ngram range: 1 to 2\n",
      "AUC with LDA on training data: 0.9\n",
      "AUC with LDA on test data: 0.9\n",
      "Ngram range: 1 to 3\n",
      "AUC with LDA on training data: 0.92\n",
      "AUC with LDA on test data: 0.92\n",
      "Ngram range: 1 to 4\n",
      "AUC with LDA on training data: 0.93\n",
      "AUC with LDA on test data: 0.93\n",
      "Ngram range: 1 to 5\n",
      "AUC with LDA on training data: 0.95\n",
      "AUC with LDA on test data: 0.93\n"
     ]
    }
   ],
   "source": [
    "ngram_ranges = [(1,1),(1,2),(1,3),(1,4),(1,5)]\n",
    "\n",
    "X = np.array(promotor_data.DNAsequence)\n",
    "#print(X)\n",
    "y = promotor_data['label']\n",
    "\n",
    "X_train, X_test, y_train, y_test = train_test_split(X, y, test_size=0.20, random_state=23)\n",
    "\n",
    "for r in ngram_ranges:\n",
    "\n",
    "    vectorizer = CountVectorizer(analyzer='char', ngram_range=r)\n",
    "    X_train_transformed = vectorizer.fit_transform(X_train).toarray()\n",
    "    X_test_transformed = vectorizer.transform(X_test).toarray()\n",
    "    \n",
    "    ldamodel = LinearDiscriminantAnalysis()\n",
    "    ldamodel.fit(X_train_transformed, y_train)\n",
    "\n",
    "    y_train_predicted = ldamodel.predict_proba(X_train_transformed)[:,1]\n",
    "    y_test_predicted = ldamodel.predict_proba(X_test_transformed)[:,1]\n",
    "    \n",
    "    print('Ngram range: {} to {}'.format(r[0], r[1]))\n",
    "    train_score = np.round(roc_auc_score(y_train, y_train_predicted), 2)\n",
    "    print('AUC with LDA on training data: {}'.format(train_score))\n",
    "    test_score = np.round(roc_auc_score(y_test, y_test_predicted), 2)\n",
    "    print('AUC with LDA on test data: {}'.format(test_score))"
   ]
  },
  {
   "cell_type": "code",
   "execution_count": 4,
   "id": "767f3774",
   "metadata": {},
   "outputs": [],
   "source": [
    "vectorizer = CountVectorizer(analyzer='char', ngram_range=(1,5))\n",
    "\n",
    "X_train_transformed = vectorizer.fit_transform(X_train).toarray()\n",
    "X_test_transformed = vectorizer.transform(X_test).toarray()\n",
    "\n",
    "model = LinearDiscriminantAnalysis()\n",
    "model.fit(X_train_transformed, y_train)\n",
    "\n",
    "y_test_predicted_ngram = model.predict_proba(X_test_transformed)[:,1]\n"
   ]
  },
  {
   "cell_type": "code",
   "execution_count": 5,
   "id": "e9073ab5",
   "metadata": {},
   "outputs": [
    {
     "data": {
      "text/plain": [
       "(5000, 1364)"
      ]
     },
     "execution_count": 5,
     "metadata": {},
     "output_type": "execute_result"
    }
   ],
   "source": [
    "X_test_transformed.shape"
   ]
  },
  {
   "cell_type": "markdown",
   "id": "89df2ed5",
   "metadata": {},
   "source": [
    "The bag-of-words feature representation completely ignores information about the location of the tokens in the sequence. An option to take this information into account here is to assign four dummy variables to each location in the sequence: $A_{k}, T_{K}, C_{k}$ or $G_{k}$, with $k$ the position in the sequence. The dummy variables indicate which of the four possibilities occurs at position $k$. To do so, I first tried to chop up the sequences into separate characters:"
   ]
  },
  {
   "cell_type": "code",
   "execution_count": 6,
   "id": "87f606d5",
   "metadata": {},
   "outputs": [],
   "source": [
    "def SplitStringVector(strings):\n",
    "    \n",
    "    \"\"\"Splits a vector of strings (equal length) into a matrix of characters\n",
    "    \n",
    "    Inputs\n",
    "    -----------\n",
    "    strings : numpy array or pandas series containing strings (1-dimensional) \n",
    "   \n",
    "    Returns\n",
    "    -------- \n",
    "        Matrix containing the strings split up per character, converted into a matrix (2d)\n",
    "    \"\"\"\n",
    "    \n",
    "    return np.asarray([[c for c in x] for x in strings])"
   ]
  },
  {
   "cell_type": "code",
   "execution_count": 7,
   "id": "5470d378",
   "metadata": {},
   "outputs": [
    {
     "data": {
      "text/plain": [
       "(5000,)"
      ]
     },
     "execution_count": 7,
     "metadata": {},
     "output_type": "execute_result"
    }
   ],
   "source": [
    "X_test.shape"
   ]
  },
  {
   "cell_type": "code",
   "execution_count": 8,
   "id": "c7b49900",
   "metadata": {},
   "outputs": [
    {
     "data": {
      "text/plain": [
       "array([['A', 'A', 'T', ..., 'G', 'G', 'G'],\n",
       "       ['A', 'T', 'G', ..., 'T', 'T', 'T'],\n",
       "       ['T', 'G', 'A', ..., 'C', 'A', 'A'],\n",
       "       ...,\n",
       "       ['C', 'C', 'G', ..., 'C', 'G', 'A'],\n",
       "       ['G', 'C', 'C', ..., 'T', 'G', 'C'],\n",
       "       ['A', 'C', 'C', ..., 'A', 'A', 'A']], dtype='<U1')"
      ]
     },
     "execution_count": 8,
     "metadata": {},
     "output_type": "execute_result"
    }
   ],
   "source": [
    "character_matrix_train = SplitStringVector(X_train)\n",
    "character_matrix_test = SplitStringVector(X_test)\n",
    "character_matrix_train"
   ]
  },
  {
   "cell_type": "code",
   "execution_count": 9,
   "id": "562b03d3",
   "metadata": {},
   "outputs": [
    {
     "data": {
      "text/plain": [
       "(5000, 201)"
      ]
     },
     "execution_count": 9,
     "metadata": {},
     "output_type": "execute_result"
    }
   ],
   "source": [
    "character_matrix_test.shape"
   ]
  },
  {
   "cell_type": "markdown",
   "id": "8bed69ed",
   "metadata": {},
   "source": [
    "1. Put the character matrices for the training and the test data in pandas dataframes and convert them to dummy variables with pandas. These will be the new features. \n",
    "\n",
    "2. Evaluate again the performance of LDA by means of the AUC. Store the predictions for the test data under y_test_predicted_loc to compare the performance of the location-based feature with the performance of the n-gram features."
   ]
  },
  {
   "cell_type": "code",
   "execution_count": 10,
   "id": "6f362160",
   "metadata": {},
   "outputs": [
    {
     "data": {
      "text/plain": [
       "(5000, 798)"
      ]
     },
     "execution_count": 10,
     "metadata": {},
     "output_type": "execute_result"
    }
   ],
   "source": [
    "dummies_test = pd.get_dummies(pd.DataFrame(character_matrix_test))\n",
    "dummies_test.shape"
   ]
  },
  {
   "cell_type": "code",
   "execution_count": 11,
   "id": "7627e8f0",
   "metadata": {},
   "outputs": [
    {
     "data": {
      "text/html": [
       "<div>\n",
       "<style scoped>\n",
       "    .dataframe tbody tr th:only-of-type {\n",
       "        vertical-align: middle;\n",
       "    }\n",
       "\n",
       "    .dataframe tbody tr th {\n",
       "        vertical-align: top;\n",
       "    }\n",
       "\n",
       "    .dataframe thead th {\n",
       "        text-align: right;\n",
       "    }\n",
       "</style>\n",
       "<table border=\"1\" class=\"dataframe\">\n",
       "  <thead>\n",
       "    <tr style=\"text-align: right;\">\n",
       "      <th></th>\n",
       "      <th>0_A</th>\n",
       "      <th>0_C</th>\n",
       "      <th>0_G</th>\n",
       "      <th>0_T</th>\n",
       "      <th>1_A</th>\n",
       "      <th>1_C</th>\n",
       "      <th>1_G</th>\n",
       "      <th>1_T</th>\n",
       "      <th>2_A</th>\n",
       "      <th>2_C</th>\n",
       "      <th>...</th>\n",
       "      <th>198_G</th>\n",
       "      <th>198_T</th>\n",
       "      <th>199_A</th>\n",
       "      <th>199_C</th>\n",
       "      <th>199_G</th>\n",
       "      <th>199_T</th>\n",
       "      <th>200_A</th>\n",
       "      <th>200_C</th>\n",
       "      <th>200_G</th>\n",
       "      <th>200_T</th>\n",
       "    </tr>\n",
       "  </thead>\n",
       "  <tbody>\n",
       "    <tr>\n",
       "      <th>0</th>\n",
       "      <td>1</td>\n",
       "      <td>0</td>\n",
       "      <td>0</td>\n",
       "      <td>0</td>\n",
       "      <td>1</td>\n",
       "      <td>0</td>\n",
       "      <td>0</td>\n",
       "      <td>0</td>\n",
       "      <td>0</td>\n",
       "      <td>0</td>\n",
       "      <td>...</td>\n",
       "      <td>1</td>\n",
       "      <td>0</td>\n",
       "      <td>0</td>\n",
       "      <td>0</td>\n",
       "      <td>1</td>\n",
       "      <td>0</td>\n",
       "      <td>0</td>\n",
       "      <td>0</td>\n",
       "      <td>1</td>\n",
       "      <td>0</td>\n",
       "    </tr>\n",
       "    <tr>\n",
       "      <th>1</th>\n",
       "      <td>1</td>\n",
       "      <td>0</td>\n",
       "      <td>0</td>\n",
       "      <td>0</td>\n",
       "      <td>0</td>\n",
       "      <td>0</td>\n",
       "      <td>0</td>\n",
       "      <td>1</td>\n",
       "      <td>0</td>\n",
       "      <td>0</td>\n",
       "      <td>...</td>\n",
       "      <td>0</td>\n",
       "      <td>1</td>\n",
       "      <td>0</td>\n",
       "      <td>0</td>\n",
       "      <td>0</td>\n",
       "      <td>1</td>\n",
       "      <td>0</td>\n",
       "      <td>0</td>\n",
       "      <td>0</td>\n",
       "      <td>1</td>\n",
       "    </tr>\n",
       "    <tr>\n",
       "      <th>2</th>\n",
       "      <td>0</td>\n",
       "      <td>0</td>\n",
       "      <td>0</td>\n",
       "      <td>1</td>\n",
       "      <td>0</td>\n",
       "      <td>0</td>\n",
       "      <td>1</td>\n",
       "      <td>0</td>\n",
       "      <td>1</td>\n",
       "      <td>0</td>\n",
       "      <td>...</td>\n",
       "      <td>0</td>\n",
       "      <td>0</td>\n",
       "      <td>1</td>\n",
       "      <td>0</td>\n",
       "      <td>0</td>\n",
       "      <td>0</td>\n",
       "      <td>1</td>\n",
       "      <td>0</td>\n",
       "      <td>0</td>\n",
       "      <td>0</td>\n",
       "    </tr>\n",
       "    <tr>\n",
       "      <th>3</th>\n",
       "      <td>0</td>\n",
       "      <td>1</td>\n",
       "      <td>0</td>\n",
       "      <td>0</td>\n",
       "      <td>0</td>\n",
       "      <td>0</td>\n",
       "      <td>0</td>\n",
       "      <td>1</td>\n",
       "      <td>0</td>\n",
       "      <td>0</td>\n",
       "      <td>...</td>\n",
       "      <td>1</td>\n",
       "      <td>0</td>\n",
       "      <td>0</td>\n",
       "      <td>1</td>\n",
       "      <td>0</td>\n",
       "      <td>0</td>\n",
       "      <td>0</td>\n",
       "      <td>1</td>\n",
       "      <td>0</td>\n",
       "      <td>0</td>\n",
       "    </tr>\n",
       "    <tr>\n",
       "      <th>4</th>\n",
       "      <td>0</td>\n",
       "      <td>1</td>\n",
       "      <td>0</td>\n",
       "      <td>0</td>\n",
       "      <td>0</td>\n",
       "      <td>0</td>\n",
       "      <td>0</td>\n",
       "      <td>1</td>\n",
       "      <td>0</td>\n",
       "      <td>1</td>\n",
       "      <td>...</td>\n",
       "      <td>0</td>\n",
       "      <td>1</td>\n",
       "      <td>0</td>\n",
       "      <td>1</td>\n",
       "      <td>0</td>\n",
       "      <td>0</td>\n",
       "      <td>0</td>\n",
       "      <td>0</td>\n",
       "      <td>0</td>\n",
       "      <td>1</td>\n",
       "    </tr>\n",
       "  </tbody>\n",
       "</table>\n",
       "<p>5 rows × 798 columns</p>\n",
       "</div>"
      ],
      "text/plain": [
       "   0_A  0_C  0_G  0_T  1_A  1_C  1_G  1_T  2_A  2_C  ...  198_G  198_T  199_A  \\\n",
       "0    1    0    0    0    1    0    0    0    0    0  ...      1      0      0   \n",
       "1    1    0    0    0    0    0    0    1    0    0  ...      0      1      0   \n",
       "2    0    0    0    1    0    0    1    0    1    0  ...      0      0      1   \n",
       "3    0    1    0    0    0    0    0    1    0    0  ...      1      0      0   \n",
       "4    0    1    0    0    0    0    0    1    0    1  ...      0      1      0   \n",
       "\n",
       "   199_C  199_G  199_T  200_A  200_C  200_G  200_T  \n",
       "0      0      1      0      0      0      1      0  \n",
       "1      0      0      1      0      0      0      1  \n",
       "2      0      0      0      1      0      0      0  \n",
       "3      1      0      0      0      1      0      0  \n",
       "4      1      0      0      0      0      0      1  \n",
       "\n",
       "[5 rows x 798 columns]"
      ]
     },
     "metadata": {},
     "output_type": "display_data"
    },
    {
     "name": "stdout",
     "output_type": "stream",
     "text": [
      "AUC with LDA on training data: 0.89\n",
      "AUC with LDA on test data: 0.88\n"
     ]
    }
   ],
   "source": [
    "\n",
    "dummies_train = pd.get_dummies(pd.DataFrame(character_matrix_train))\n",
    "dummies_test = pd.get_dummies(pd.DataFrame(character_matrix_test))\n",
    "display(dummies_train.head(5))\n",
    "\n",
    "ldamodel = LinearDiscriminantAnalysis()\n",
    "ldamodel.fit(dummies_train, y_train)\n",
    "\n",
    "y_train_predicted_loc = ldamodel.predict_proba(dummies_train)[:,1]\n",
    "y_test_predicted_loc = ldamodel.predict_proba(dummies_test)[:,1]\n",
    "\n",
    "train_score = np.round(roc_auc_score(y_train, y_train_predicted_loc), 2)\n",
    "print('AUC with LDA on training data: {}'.format(train_score))\n",
    "test_score = np.round(roc_auc_score(y_test, y_test_predicted_loc), 2)\n",
    "print('AUC with LDA on test data: {}'.format(test_score))"
   ]
  },
  {
   "cell_type": "code",
   "execution_count": 12,
   "id": "c6688295",
   "metadata": {},
   "outputs": [
    {
     "data": {
      "text/plain": [
       "(5000, 1364)"
      ]
     },
     "execution_count": 12,
     "metadata": {},
     "output_type": "execute_result"
    }
   ],
   "source": [
    "X_test_transformed.shape"
   ]
  },
  {
   "cell_type": "code",
   "execution_count": 13,
   "id": "b9af3485",
   "metadata": {},
   "outputs": [
    {
     "data": {
      "text/plain": [
       "(5000, 798)"
      ]
     },
     "execution_count": 13,
     "metadata": {},
     "output_type": "execute_result"
    }
   ],
   "source": [
    "dummies_test.shape\n"
   ]
  },
  {
   "cell_type": "markdown",
   "id": "d3d4f179",
   "metadata": {},
   "source": [
    "\n",
    "Use the predictions from the best classifier with n-grams and the predictions with the location-based features to plot two ROC curves. Then combine both feature representations.\n"
   ]
  },
  {
   "cell_type": "code",
   "execution_count": 14,
   "id": "2a276862",
   "metadata": {},
   "outputs": [],
   "source": [
    "comb_train = np.concatenate((X_train_transformed,dummies_train), axis=1)\n",
    "comb_test = np.concatenate((X_test_transformed,dummies_test), axis=1)\n"
   ]
  },
  {
   "cell_type": "markdown",
   "id": "0f4e1e37",
   "metadata": {},
   "source": [
    "### 4. Classifiers"
   ]
  },
  {
   "cell_type": "markdown",
   "id": "99b20d28",
   "metadata": {},
   "source": [
    "#### 4.1 Try different classifiers and visualize which is the best classifier having the largest value of mean accuracy"
   ]
  },
  {
   "cell_type": "code",
   "execution_count": 15,
   "id": "3cf42a90",
   "metadata": {},
   "outputs": [],
   "source": [
    "kfold = StratifiedKFold(n_splits=10)"
   ]
  },
  {
   "cell_type": "code",
   "execution_count": 16,
   "id": "34423e99",
   "metadata": {},
   "outputs": [
    {
     "name": "stdout",
     "output_type": "stream",
     "text": [
      "[array([0.931 , 0.929 , 0.9275, 0.924 , 0.9385, 0.923 , 0.933 , 0.9275,\n",
      "       0.931 , 0.922 ]), array([0.874 , 0.869 , 0.874 , 0.8735, 0.8725, 0.861 , 0.8715, 0.8725,\n",
      "       0.8685, 0.8725]), array([0.871 , 0.8645, 0.8775, 0.874 , 0.8685, 0.8715, 0.863 , 0.877 ,\n",
      "       0.864 , 0.8735]), array([0.926 , 0.922 , 0.9235, 0.9165, 0.9285, 0.9185, 0.9275, 0.9225,\n",
      "       0.9265, 0.9145]), array([0.9215, 0.924 , 0.9195, 0.913 , 0.9315, 0.9105, 0.9225, 0.918 ,\n",
      "       0.9255, 0.9155]), array([0.935 , 0.9265, 0.9285, 0.925 , 0.934 , 0.9215, 0.928 , 0.922 ,\n",
      "       0.9295, 0.922 ]), array([0.9245, 0.9215, 0.925 , 0.9155, 0.927 , 0.922 , 0.924 , 0.914 ,\n",
      "       0.916 , 0.9185]), array([0.9165, 0.9215, 0.919 , 0.9155, 0.9295, 0.9105, 0.923 , 0.9205,\n",
      "       0.9175, 0.914 ]), array([nan, nan, nan, nan, nan, nan, nan, nan, nan, nan]), array([0.9305, 0.924 , 0.92  , 0.9155, 0.932 , 0.921 , 0.9215, 0.921 ,\n",
      "       0.92  , 0.9185])]\n"
     ]
    },
    {
     "name": "stderr",
     "output_type": "stream",
     "text": [
      "/Users/hayoungkim/miniconda3/lib/python3.8/site-packages/seaborn/_decorators.py:36: FutureWarning: Pass the following variables as keyword args: x, y. From version 0.12, the only valid positional argument will be `data`, and passing other arguments without an explicit keyword will result in an error or misinterpretation.\n",
      "  warnings.warn(\n"
     ]
    },
    {
     "data": {
      "image/png": "[encoded data removed]",
      "text/plain": [
       "<Figure size 432x288 with 1 Axes>"
      ]
     },
     "metadata": {},
     "output_type": "display_data"
    }
   ],
   "source": [
    "# Modeling step Test differents algorithms \n",
    "random_state = 2\n",
    "classifiers = []\n",
    "classifiers.append(SVC(random_state=random_state))\n",
    "classifiers.append(DecisionTreeClassifier(random_state=random_state))\n",
    "classifiers.append(AdaBoostClassifier(DecisionTreeClassifier(random_state=random_state),random_state=random_state,learning_rate=0.1))\n",
    "classifiers.append(RandomForestClassifier(random_state=random_state))\n",
    "classifiers.append(ExtraTreesClassifier(random_state=random_state))\n",
    "classifiers.append(GradientBoostingClassifier(random_state=random_state))\n",
    "classifiers.append(MLPClassifier(random_state=random_state))\n",
    "classifiers.append(KNeighborsClassifier())\n",
    "classifiers.append(LogisticRegression(random_state = random_state))\n",
    "classifiers.append(LinearDiscriminantAnalysis())\n",
    "\n",
    "cv_results = []\n",
    "for classifier in classifiers :\n",
    "    cv_results.append(cross_val_score(classifier, comb_train, y = y_train, scoring = \"accuracy\", cv = kfold, n_jobs=8))\n",
    "print(cv_results)\n",
    "cv_means = []\n",
    "cv_std = []\n",
    "for cv_result in cv_results:\n",
    "    cv_means.append(cv_result.mean())\n",
    "    cv_std.append(cv_result.std())\n",
    "\n",
    "cv_res = pd.DataFrame({\"CrossValMeans\":cv_means,\"CrossValerrors\": cv_std,\"Algorithm\":[\"SVC\",\"DecisionTree\",\"AdaBoost\",\n",
    "\"RandomForest\",\"ExtraTrees\",\"GradientBoosting\",\"MultipleLayerPerceptron\",\"KNeighboors\",\"LogisticRegression\",\"LinearDiscriminantAnalysis\"]})\n",
    "\n",
    "g = sns.barplot(\"CrossValMeans\",\"Algorithm\",data = cv_res, palette=\"Set3\",orient = \"h\",**{'xerr':cv_std})\n",
    "g.set_xlabel(\"Mean Accuracy\")\n",
    "g = g.set_title(\"Cross validation scores\")\n"
   ]
  },
  {
   "cell_type": "markdown",
   "id": "6fcfe585",
   "metadata": {},
   "source": [
    "#### 4.2 Parameter tuning for the candidate classifiers"
   ]
  },
  {
   "cell_type": "markdown",
   "id": "f756fe08",
   "metadata": {},
   "source": [
    "##### SVC Classifier"
   ]
  },
  {
   "cell_type": "code",
   "execution_count": 17,
   "id": "c4c52d2d",
   "metadata": {},
   "outputs": [
    {
     "name": "stdout",
     "output_type": "stream",
     "text": [
      "Fitting 10 folds for each of 1 candidates, totalling 10 fits\n"
     ]
    },
    {
     "name": "stderr",
     "output_type": "stream",
     "text": [
      "[Parallel(n_jobs=8)]: Using backend LokyBackend with 8 concurrent workers.\n",
      "[Parallel(n_jobs=8)]: Done   6 out of  10 | elapsed: 28.9min remaining: 19.2min\n",
      "[Parallel(n_jobs=8)]: Done  10 out of  10 | elapsed: 46.3min finished\n"
     ]
    },
    {
     "data": {
      "text/plain": [
       "0.92865"
      ]
     },
     "execution_count": 17,
     "metadata": {},
     "output_type": "execute_result"
    }
   ],
   "source": [
    "\n",
    "SVMC = SVC(probability=True)\n",
    "svc_param_grid = {'C': [1.0],'gamma': ['scale'], 'kernel':['rbf']}\n",
    "\n",
    "gsSVMC = GridSearchCV(SVMC,param_grid = svc_param_grid, cv=kfold, scoring=\"accuracy\", n_jobs= 8, verbose = 1)\n",
    "\n",
    "gsSVMC.fit(comb_train,y_train)\n",
    "\n",
    "SVMC_best = gsSVMC.best_estimator_\n",
    "\n",
    "# Best score\n",
    "gsSVMC.best_score_"
   ]
  },
  {
   "cell_type": "markdown",
   "id": "b84d28e8",
   "metadata": {},
   "source": [
    "##### Random Forest Classifier"
   ]
  },
  {
   "cell_type": "code",
   "execution_count": 18,
   "id": "233996b2",
   "metadata": {},
   "outputs": [
    {
     "name": "stdout",
     "output_type": "stream",
     "text": [
      "Fitting 10 folds for each of 54 candidates, totalling 540 fits\n"
     ]
    },
    {
     "name": "stderr",
     "output_type": "stream",
     "text": [
      "[Parallel(n_jobs=8)]: Using backend LokyBackend with 8 concurrent workers.\n",
      "[Parallel(n_jobs=8)]: Done  34 tasks      | elapsed:   30.1s\n",
      "[Parallel(n_jobs=8)]: Done 184 tasks      | elapsed:  1.9min\n",
      "[Parallel(n_jobs=8)]: Done 434 tasks      | elapsed:  8.7min\n",
      "[Parallel(n_jobs=8)]: Done 540 out of 540 | elapsed: 13.4min finished\n"
     ]
    },
    {
     "data": {
      "text/plain": [
       "0.9195"
      ]
     },
     "execution_count": 18,
     "metadata": {},
     "output_type": "execute_result"
    }
   ],
   "source": [
    "# RFC Parameters tunning \n",
    "RFC = RandomForestClassifier()\n",
    "\n",
    "\n",
    "## Search grid for optimal parameters\n",
    "rf_param_grid = {\"max_depth\": [None],\n",
    "              \"max_features\": [1, 3, 10],\n",
    "              \"min_samples_split\": [2, 3, 10],\n",
    "              \"min_samples_leaf\": [1, 3, 10],\n",
    "              \"bootstrap\": [False],\n",
    "              \"n_estimators\" :[100,300],\n",
    "              \"criterion\": [\"gini\"]}\n",
    "\n",
    "\n",
    "gsRFC = GridSearchCV(RFC,param_grid = rf_param_grid, cv=kfold, scoring=\"accuracy\", n_jobs= 8, verbose = 1)\n",
    "\n",
    "gsRFC.fit(comb_train,y_train)\n",
    "\n",
    "RFC_best = gsRFC.best_estimator_\n",
    "\n",
    "# Best score\n",
    "gsRFC.best_score_"
   ]
  },
  {
   "cell_type": "markdown",
   "id": "2cace19c",
   "metadata": {},
   "source": [
    "##### Gradient boosting Classifier"
   ]
  },
  {
   "cell_type": "code",
   "execution_count": 19,
   "id": "6a519701",
   "metadata": {},
   "outputs": [
    {
     "name": "stdout",
     "output_type": "stream",
     "text": [
      "Fitting 10 folds for each of 72 candidates, totalling 720 fits\n"
     ]
    },
    {
     "name": "stderr",
     "output_type": "stream",
     "text": [
      "[Parallel(n_jobs=8)]: Using backend LokyBackend with 8 concurrent workers.\n",
      "[Parallel(n_jobs=8)]: Done  34 tasks      | elapsed: 22.4min\n",
      "[Parallel(n_jobs=8)]: Done 184 tasks      | elapsed: 129.7min\n",
      "[Parallel(n_jobs=8)]: Done 434 tasks      | elapsed: 291.2min\n",
      "[Parallel(n_jobs=8)]: Done 720 out of 720 | elapsed: 591.5min finished\n"
     ]
    },
    {
     "data": {
      "text/plain": [
       "0.93285"
      ]
     },
     "execution_count": 19,
     "metadata": {},
     "output_type": "execute_result"
    }
   ],
   "source": [
    "\n",
    "GBC = GradientBoostingClassifier()\n",
    "gb_param_grid = {'loss' : [\"deviance\"],\n",
    "              'n_estimators' : [100,200,300],\n",
    "              'learning_rate': [0.1, 0.05, 0.01],\n",
    "              'max_depth': [4, 8],\n",
    "              'min_samples_leaf': [100,150],\n",
    "              'max_features': [0.3, 0.1] \n",
    "              }\n",
    "\n",
    "gsGBC = GridSearchCV(GBC,param_grid = gb_param_grid, cv=kfold, scoring=\"accuracy\", n_jobs= 8, verbose = 1)\n",
    "\n",
    "gsGBC.fit(comb_train,y_train)\n",
    "\n",
    "GBC_best = gsGBC.best_estimator_\n",
    "\n",
    "# Best score\n",
    "gsGBC.best_score_\n"
   ]
  },
  {
   "cell_type": "markdown",
   "id": "11986e99",
   "metadata": {},
   "source": [
    "##### KNeighbors Classifier"
   ]
  },
  {
   "cell_type": "code",
   "execution_count": null,
   "id": "0bde46b1",
   "metadata": {},
   "outputs": [
    {
     "name": "stdout",
     "output_type": "stream",
     "text": [
      "Fitting 10 folds for each of 38 candidates, totalling 380 fits\n"
     ]
    },
    {
     "name": "stderr",
     "output_type": "stream",
     "text": [
      "[Parallel(n_jobs=8)]: Using backend LokyBackend with 8 concurrent workers.\n"
     ]
    }
   ],
   "source": [
    "\n",
    "KNei = KNeighborsClassifier()\n",
    "knei_param_grid = {\"n_neighbors\": range(1, 20),'weights': ['uniform','distance']}\n",
    "\n",
    "gsKNei = GridSearchCV(KNei,param_grid = knei_param_grid, cv=kfold, scoring=\"accuracy\", n_jobs= 8, verbose = 1)\n",
    "\n",
    "gsKNei.fit(comb_train,y_train)\n",
    "\n",
    "KNei_best = gsKNei.best_estimator_\n",
    "\n",
    "# Best score\n",
    "gsKNei.best_score_\n"
   ]
  },
  {
   "cell_type": "markdown",
   "id": "31df40d6",
   "metadata": {},
   "source": [
    "##### Linear Discriminant Analysis"
   ]
  },
  {
   "cell_type": "code",
   "execution_count": null,
   "id": "77e94983",
   "metadata": {},
   "outputs": [],
   "source": [
    "\n",
    "LDA = LinearDiscriminantAnalysis()\n",
    "lda_param_grid = lda_param_grid = {\"solver\" : [\"svd\"], \"tol\" : [0.0001,0.0002,0.0003]}\n",
    "\n",
    "gsLDA = GridSearchCV(LDA,param_grid = lda_param_grid, cv=kfold, scoring=\"accuracy\", n_jobs= 8, verbose = 1)\n",
    "\n",
    "gsLDA.fit(comb_train,y_train)\n",
    "\n",
    "LDA_best = gsLDA.best_estimator_\n",
    "\n",
    "# Best score\n",
    "gsLDA.best_score_"
   ]
  },
  {
   "cell_type": "markdown",
   "id": "b2325e99",
   "metadata": {},
   "source": [
    "### 5. Ensemble modelling"
   ]
  },
  {
   "cell_type": "markdown",
   "id": "5cd7c6f1",
   "metadata": {},
   "source": [
    "#### 5.1 Combining models"
   ]
  },
  {
   "cell_type": "markdown",
   "id": "1b6de2f0",
   "metadata": {},
   "source": [
    "I choosed a voting classifier to combine the predictions coming from the 5 classifiers.\n",
    "I preferred to pass the argument \"soft\" to the voting parameter to take into account the probability of each vote."
   ]
  },
  {
   "cell_type": "code",
   "execution_count": null,
   "id": "9b73c447",
   "metadata": {},
   "outputs": [],
   "source": [
    "\n",
    "votingC = VotingClassifier(estimators=[('svc', SVMC_best), ('rfc', RFC_best),\n",
    "('gbc',GBC_best),('knei',KNei_best),('lda',LDA_best)], voting='soft', n_jobs=8)\n",
    "\n",
    "votingC = votingC.fit(comb_train, y_train)"
   ]
  },
  {
   "cell_type": "markdown",
   "id": "20caf379",
   "metadata": {},
   "source": [
    "### 6. Load test dataset"
   ]
  },
  {
   "cell_type": "code",
   "execution_count": null,
   "id": "e63fae8c",
   "metadata": {},
   "outputs": [],
   "source": [
    "\n",
    "test_data = pd.read_csv('./test.csv')\n",
    "test_data.head()"
   ]
  },
  {
   "cell_type": "markdown",
   "id": "89ab5514",
   "metadata": {},
   "source": [
    "### 7. Data Preprocessing for the test dataset"
   ]
  },
  {
   "cell_type": "markdown",
   "id": "d70f9c1e",
   "metadata": {},
   "source": [
    "The procedure is same as the data preprocessing for the train dataset."
   ]
  },
  {
   "cell_type": "code",
   "execution_count": null,
   "id": "ffc0cb75",
   "metadata": {},
   "outputs": [],
   "source": [
    "resultX = np.array(test_data.DNAsequence)\n",
    "resultX"
   ]
  },
  {
   "cell_type": "code",
   "execution_count": null,
   "id": "91bfe054",
   "metadata": {},
   "outputs": [],
   "source": [
    "resultX_transformed = vectorizer.transform(resultX).toarray()\n",
    "resultY_predicted = model.predict_proba(resultX_transformed)[:,1]\n"
   ]
  },
  {
   "cell_type": "code",
   "execution_count": null,
   "id": "2e6df4ca",
   "metadata": {},
   "outputs": [],
   "source": [
    "character_matrix_resultX = SplitStringVector(resultX)\n"
   ]
  },
  {
   "cell_type": "code",
   "execution_count": null,
   "id": "ceff5b66",
   "metadata": {},
   "outputs": [],
   "source": [
    "dummies_result = pd.get_dummies(pd.DataFrame(character_matrix_resultX))\n"
   ]
  },
  {
   "cell_type": "code",
   "execution_count": null,
   "id": "ae06bc51",
   "metadata": {},
   "outputs": [],
   "source": [
    "comb_result = np.concatenate((resultX_transformed,dummies_result), axis=1)\n"
   ]
  },
  {
   "cell_type": "markdown",
   "id": "a2345ce7",
   "metadata": {},
   "source": [
    "### 8. Predict the probability of the test dataset"
   ]
  },
  {
   "cell_type": "code",
   "execution_count": null,
   "id": "4c5c4ef6",
   "metadata": {},
   "outputs": [],
   "source": [
    "y_result_predicted_comb = votingC.predict_proba(comb_result)[:,1]\n",
    "y_result_predicted_comb"
   ]
  },
  {
   "cell_type": "code",
   "execution_count": null,
   "id": "9f475836",
   "metadata": {},
   "outputs": [],
   "source": [
    "result_df = pd.DataFrame(y_result_predicted_comb, columns = ['Predicted'])\n",
    "result_df.index.name = 'Id'\n",
    "result_df"
   ]
  },
  {
   "cell_type": "code",
   "execution_count": null,
   "id": "755d63cc",
   "metadata": {},
   "outputs": [],
   "source": [
    "result_df.to_csv(\"528_submission_last.csv\")"
   ]
  },
  {
   "cell_type": "markdown",
   "id": "dbc3f96a",
   "metadata": {},
   "source": [
    "\n",
    "By a number of experiments, I realized that sklearn classifiers produce the higher score rather than using CNN (Convolutional Neural Network) for this dataset."
   ]
  }
 ],
 "metadata": {
  "kernelspec": {
   "display_name": "Python 3",
   "language": "python",
   "name": "python3"
  },
  "language_info": {
   "codemirror_mode": {
    "name": "ipython",
    "version": 3
   },
   "file_extension": ".py",
   "mimetype": "text/x-python",
   "name": "python",
   "nbconvert_exporter": "python",
   "pygments_lexer": "ipython3",
   "version": "3.8.5"
  }
 },
 "nbformat": 4,
 "nbformat_minor": 5
}
